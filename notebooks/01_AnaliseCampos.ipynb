{
 "cells": [
  {
   "cell_type": "code",
   "execution_count": 1,
   "id": "c0c938da-25ae-48a8-9491-aefb0da78e85",
   "metadata": {},
   "outputs": [],
   "source": [
    "import pandas as pd"
   ]
  },
  {
   "cell_type": "markdown",
   "id": "38657faa-24c1-41c7-98f0-82e33c02cdc0",
   "metadata": {},
   "source": [
    "### Extract Columns List"
   ]
  },
  {
   "cell_type": "code",
   "execution_count": 2,
   "id": "9b59595b-165c-4c4e-9cfc-3b2bd6fc2cff",
   "metadata": {},
   "outputs": [
    {
     "name": "stdout",
     "output_type": "stream",
     "text": [
      "Shape:\t (3476105, 76) \n",
      "Columns: Index(['NU_INSCRICAO', 'NU_ANO', 'TP_FAIXA_ETARIA', 'TP_SEXO',\n",
      "       'TP_ESTADO_CIVIL', 'TP_COR_RACA', 'TP_NACIONALIDADE', 'TP_ST_CONCLUSAO',\n",
      "       'TP_ANO_CONCLUIU', 'TP_ESCOLA', 'TP_ENSINO', 'IN_TREINEIRO',\n",
      "       'CO_MUNICIPIO_ESC', 'NO_MUNICIPIO_ESC', 'CO_UF_ESC', 'SG_UF_ESC',\n",
      "       'TP_DEPENDENCIA_ADM_ESC', 'TP_LOCALIZACAO_ESC', 'TP_SIT_FUNC_ESC',\n",
      "       'CO_MUNICIPIO_PROVA', 'NO_MUNICIPIO_PROVA', 'CO_UF_PROVA',\n",
      "       'SG_UF_PROVA', 'TP_PRESENCA_CN', 'TP_PRESENCA_CH', 'TP_PRESENCA_LC',\n",
      "       'TP_PRESENCA_MT', 'CO_PROVA_CN', 'CO_PROVA_CH', 'CO_PROVA_LC',\n",
      "       'CO_PROVA_MT', 'NU_NOTA_CN', 'NU_NOTA_CH', 'NU_NOTA_LC', 'NU_NOTA_MT',\n",
      "       'TX_RESPOSTAS_CN', 'TX_RESPOSTAS_CH', 'TX_RESPOSTAS_LC',\n",
      "       'TX_RESPOSTAS_MT', 'TP_LINGUA', 'TX_GABARITO_CN', 'TX_GABARITO_CH',\n",
      "       'TX_GABARITO_LC', 'TX_GABARITO_MT', 'TP_STATUS_REDACAO',\n",
      "       'NU_NOTA_COMP1', 'NU_NOTA_COMP2', 'NU_NOTA_COMP3', 'NU_NOTA_COMP4',\n",
      "       'NU_NOTA_COMP5', 'NU_NOTA_REDACAO', 'Q001', 'Q002', 'Q003', 'Q004',\n",
      "       'Q005', 'Q006', 'Q007', 'Q008', 'Q009', 'Q010', 'Q011', 'Q012', 'Q013',\n",
      "       'Q014', 'Q015', 'Q016', 'Q017', 'Q018', 'Q019', 'Q020', 'Q021', 'Q022',\n",
      "       'Q023', 'Q024', 'Q025'],\n",
      "      dtype='object')\n"
     ]
    }
   ],
   "source": [
    "enem22 = pd.read_csv(\"../../dados_enem/microdados_enem_2022/DADOS/MICRODADOS_ENEM_2022.csv\", sep=';', encoding = \"ISO-8859-1\")\n",
    "enem22_clm = enem22.columns.tolist()\n",
    "\n",
    "print('Shape:\\t',enem22.shape,'\\nColumns:',enem22.columns)\n",
    "del enem22"
   ]
  },
  {
   "cell_type": "code",
   "execution_count": 3,
   "id": "d9eefe81-3cc7-4261-a7ac-00d3e98c3366",
   "metadata": {},
   "outputs": [
    {
     "name": "stdout",
     "output_type": "stream",
     "text": [
      "Shape:\t (3389832, 76) \n",
      "Columns: Index(['NU_INSCRICAO', 'NU_ANO', 'TP_FAIXA_ETARIA', 'TP_SEXO',\n",
      "       'TP_ESTADO_CIVIL', 'TP_COR_RACA', 'TP_NACIONALIDADE', 'TP_ST_CONCLUSAO',\n",
      "       'TP_ANO_CONCLUIU', 'TP_ESCOLA', 'TP_ENSINO', 'IN_TREINEIRO',\n",
      "       'CO_MUNICIPIO_ESC', 'NO_MUNICIPIO_ESC', 'CO_UF_ESC', 'SG_UF_ESC',\n",
      "       'TP_DEPENDENCIA_ADM_ESC', 'TP_LOCALIZACAO_ESC', 'TP_SIT_FUNC_ESC',\n",
      "       'CO_MUNICIPIO_PROVA', 'NO_MUNICIPIO_PROVA', 'CO_UF_PROVA',\n",
      "       'SG_UF_PROVA', 'TP_PRESENCA_CN', 'TP_PRESENCA_CH', 'TP_PRESENCA_LC',\n",
      "       'TP_PRESENCA_MT', 'CO_PROVA_CN', 'CO_PROVA_CH', 'CO_PROVA_LC',\n",
      "       'CO_PROVA_MT', 'NU_NOTA_CN', 'NU_NOTA_CH', 'NU_NOTA_LC', 'NU_NOTA_MT',\n",
      "       'TX_RESPOSTAS_CN', 'TX_RESPOSTAS_CH', 'TX_RESPOSTAS_LC',\n",
      "       'TX_RESPOSTAS_MT', 'TP_LINGUA', 'TX_GABARITO_CN', 'TX_GABARITO_CH',\n",
      "       'TX_GABARITO_LC', 'TX_GABARITO_MT', 'TP_STATUS_REDACAO',\n",
      "       'NU_NOTA_COMP1', 'NU_NOTA_COMP2', 'NU_NOTA_COMP3', 'NU_NOTA_COMP4',\n",
      "       'NU_NOTA_COMP5', 'NU_NOTA_REDACAO', 'Q001', 'Q002', 'Q003', 'Q004',\n",
      "       'Q005', 'Q006', 'Q007', 'Q008', 'Q009', 'Q010', 'Q011', 'Q012', 'Q013',\n",
      "       'Q014', 'Q015', 'Q016', 'Q017', 'Q018', 'Q019', 'Q020', 'Q021', 'Q022',\n",
      "       'Q023', 'Q024', 'Q025'],\n",
      "      dtype='object')\n"
     ]
    }
   ],
   "source": [
    "enem21 = pd.read_csv(\"../../dados_enem/microdados_enem_2021/DADOS/MICRODADOS_ENEM_2021.csv\", sep=';', encoding = \"ISO-8859-1\")\n",
    "enem21_clm = enem21.columns.tolist()\n",
    "\n",
    "print('Shape:\\t',enem21.shape,'\\nColumns:',enem21.columns)\n",
    "del enem21"
   ]
  },
  {
   "cell_type": "code",
   "execution_count": 4,
   "id": "587b049a-a4ba-4718-a312-8ffb1e098d4c",
   "metadata": {},
   "outputs": [
    {
     "name": "stdout",
     "output_type": "stream",
     "text": [
      "Shape:\t (5783109, 76) \n",
      "Columns: Index(['NU_INSCRICAO', 'NU_ANO', 'TP_FAIXA_ETARIA', 'TP_SEXO',\n",
      "       'TP_ESTADO_CIVIL', 'TP_COR_RACA', 'TP_NACIONALIDADE', 'TP_ST_CONCLUSAO',\n",
      "       'TP_ANO_CONCLUIU', 'TP_ESCOLA', 'TP_ENSINO', 'IN_TREINEIRO',\n",
      "       'CO_MUNICIPIO_ESC', 'NO_MUNICIPIO_ESC', 'CO_UF_ESC', 'SG_UF_ESC',\n",
      "       'TP_DEPENDENCIA_ADM_ESC', 'TP_LOCALIZACAO_ESC', 'TP_SIT_FUNC_ESC',\n",
      "       'CO_MUNICIPIO_PROVA', 'NO_MUNICIPIO_PROVA', 'CO_UF_PROVA',\n",
      "       'SG_UF_PROVA', 'TP_PRESENCA_CN', 'TP_PRESENCA_CH', 'TP_PRESENCA_LC',\n",
      "       'TP_PRESENCA_MT', 'CO_PROVA_CN', 'CO_PROVA_CH', 'CO_PROVA_LC',\n",
      "       'CO_PROVA_MT', 'NU_NOTA_CN', 'NU_NOTA_CH', 'NU_NOTA_LC', 'NU_NOTA_MT',\n",
      "       'TX_RESPOSTAS_CN', 'TX_RESPOSTAS_CH', 'TX_RESPOSTAS_LC',\n",
      "       'TX_RESPOSTAS_MT', 'TP_LINGUA', 'TX_GABARITO_CN', 'TX_GABARITO_CH',\n",
      "       'TX_GABARITO_LC', 'TX_GABARITO_MT', 'TP_STATUS_REDACAO',\n",
      "       'NU_NOTA_COMP1', 'NU_NOTA_COMP2', 'NU_NOTA_COMP3', 'NU_NOTA_COMP4',\n",
      "       'NU_NOTA_COMP5', 'NU_NOTA_REDACAO', 'Q001', 'Q002', 'Q003', 'Q004',\n",
      "       'Q005', 'Q006', 'Q007', 'Q008', 'Q009', 'Q010', 'Q011', 'Q012', 'Q013',\n",
      "       'Q014', 'Q015', 'Q016', 'Q017', 'Q018', 'Q019', 'Q020', 'Q021', 'Q022',\n",
      "       'Q023', 'Q024', 'Q025'],\n",
      "      dtype='object')\n"
     ]
    }
   ],
   "source": [
    "enem20 = pd.read_csv(\"../../dados_enem/microdados_enem_2020/DADOS/MICRODADOS_ENEM_2020.csv\", sep=';', encoding = \"ISO-8859-1\")\n",
    "enem20_clm = enem20.columns.tolist()\n",
    "\n",
    "print('Shape:\\t',enem20.shape,'\\nColumns:',enem20.columns)\n",
    "del enem20"
   ]
  },
  {
   "cell_type": "code",
   "execution_count": 5,
   "id": "110b455f-4a0a-477a-80f1-97a9fba91804",
   "metadata": {},
   "outputs": [
    {
     "name": "stdout",
     "output_type": "stream",
     "text": [
      "Shape:\t (5095171, 76) \n",
      "Columns: Index(['NU_INSCRICAO', 'NU_ANO', 'TP_FAIXA_ETARIA', 'TP_SEXO',\n",
      "       'TP_ESTADO_CIVIL', 'TP_COR_RACA', 'TP_NACIONALIDADE', 'TP_ST_CONCLUSAO',\n",
      "       'TP_ANO_CONCLUIU', 'TP_ESCOLA', 'TP_ENSINO', 'IN_TREINEIRO',\n",
      "       'CO_MUNICIPIO_ESC', 'NO_MUNICIPIO_ESC', 'CO_UF_ESC', 'SG_UF_ESC',\n",
      "       'TP_DEPENDENCIA_ADM_ESC', 'TP_LOCALIZACAO_ESC', 'TP_SIT_FUNC_ESC',\n",
      "       'CO_MUNICIPIO_PROVA', 'NO_MUNICIPIO_PROVA', 'CO_UF_PROVA',\n",
      "       'SG_UF_PROVA', 'TP_PRESENCA_CN', 'TP_PRESENCA_CH', 'TP_PRESENCA_LC',\n",
      "       'TP_PRESENCA_MT', 'CO_PROVA_CN', 'CO_PROVA_CH', 'CO_PROVA_LC',\n",
      "       'CO_PROVA_MT', 'NU_NOTA_CN', 'NU_NOTA_CH', 'NU_NOTA_LC', 'NU_NOTA_MT',\n",
      "       'TX_RESPOSTAS_CN', 'TX_RESPOSTAS_CH', 'TX_RESPOSTAS_LC',\n",
      "       'TX_RESPOSTAS_MT', 'TP_LINGUA', 'TX_GABARITO_CN', 'TX_GABARITO_CH',\n",
      "       'TX_GABARITO_LC', 'TX_GABARITO_MT', 'TP_STATUS_REDACAO',\n",
      "       'NU_NOTA_COMP1', 'NU_NOTA_COMP2', 'NU_NOTA_COMP3', 'NU_NOTA_COMP4',\n",
      "       'NU_NOTA_COMP5', 'NU_NOTA_REDACAO', 'Q001', 'Q002', 'Q003', 'Q004',\n",
      "       'Q005', 'Q006', 'Q007', 'Q008', 'Q009', 'Q010', 'Q011', 'Q012', 'Q013',\n",
      "       'Q014', 'Q015', 'Q016', 'Q017', 'Q018', 'Q019', 'Q020', 'Q021', 'Q022',\n",
      "       'Q023', 'Q024', 'Q025'],\n",
      "      dtype='object')\n"
     ]
    }
   ],
   "source": [
    "enem19 = pd.read_csv(\"../../dados_enem/microdados_enem_2019/DADOS/MICRODADOS_ENEM_2019.csv\", sep=';', encoding = \"ISO-8859-1\")\n",
    "enem19_clm = enem19.columns.tolist()\n",
    "\n",
    "print('Shape:\\t',enem19.shape,'\\nColumns:',enem19.columns)\n",
    "del enem19"
   ]
  },
  {
   "cell_type": "code",
   "execution_count": 6,
   "id": "41f79ac4-b619-450e-9292-72bcb69015e7",
   "metadata": {},
   "outputs": [
    {
     "name": "stdout",
     "output_type": "stream",
     "text": [
      "Shape:\t (5513733, 78) \n",
      "Columns: Index(['NU_INSCRICAO', 'NU_ANO', 'TP_FAIXA_ETARIA', 'TP_SEXO',\n",
      "       'TP_ESTADO_CIVIL', 'TP_COR_RACA', 'TP_NACIONALIDADE', 'TP_ST_CONCLUSAO',\n",
      "       'TP_ANO_CONCLUIU', 'TP_ESCOLA', 'TP_ENSINO', 'IN_TREINEIRO',\n",
      "       'CO_MUNICIPIO_ESC', 'NO_MUNICIPIO_ESC', 'CO_UF_ESC', 'SG_UF_ESC',\n",
      "       'TP_DEPENDENCIA_ADM_ESC', 'TP_LOCALIZACAO_ESC', 'TP_SIT_FUNC_ESC',\n",
      "       'CO_MUNICIPIO_PROVA', 'NO_MUNICIPIO_PROVA', 'CO_UF_PROVA',\n",
      "       'SG_UF_PROVA', 'TP_PRESENCA_CN', 'TP_PRESENCA_CH', 'TP_PRESENCA_LC',\n",
      "       'TP_PRESENCA_MT', 'CO_PROVA_CN', 'CO_PROVA_CH', 'CO_PROVA_LC',\n",
      "       'CO_PROVA_MT', 'NU_NOTA_CN', 'NU_NOTA_CH', 'NU_NOTA_LC', 'NU_NOTA_MT',\n",
      "       'TX_RESPOSTAS_CN', 'TX_RESPOSTAS_CH', 'TX_RESPOSTAS_LC',\n",
      "       'TX_RESPOSTAS_MT', 'TP_LINGUA', 'TX_GABARITO_CN', 'TX_GABARITO_CH',\n",
      "       'TX_GABARITO_LC', 'TX_GABARITO_MT', 'TP_STATUS_REDACAO',\n",
      "       'NU_NOTA_COMP1', 'NU_NOTA_COMP2', 'NU_NOTA_COMP3', 'NU_NOTA_COMP4',\n",
      "       'NU_NOTA_COMP5', 'NU_NOTA_REDACAO', 'Q001', 'Q002', 'Q003', 'Q004',\n",
      "       'Q005', 'Q006', 'Q007', 'Q008', 'Q009', 'Q010', 'Q011', 'Q012', 'Q013',\n",
      "       'Q014', 'Q015', 'Q016', 'Q017', 'Q018', 'Q019', 'Q020', 'Q021', 'Q022',\n",
      "       'Q023', 'Q024', 'Q025', 'Q026', 'Q027'],\n",
      "      dtype='object')\n"
     ]
    }
   ],
   "source": [
    "enem18 = pd.read_csv(\"../../dados_enem/microdados_enem_2018/DADOS/MICRODADOS_ENEM_2018.csv\", sep=';', encoding = \"ISO-8859-1\")\n",
    "enem18_clm = enem18.columns.tolist()\n",
    "\n",
    "print('Shape:\\t',enem18.shape,'\\nColumns:',enem18.columns)\n",
    "del enem18"
   ]
  },
  {
   "cell_type": "code",
   "execution_count": 7,
   "id": "5e3f1280-c49a-47c9-b48c-b327c7e87ad4",
   "metadata": {},
   "outputs": [
    {
     "name": "stdout",
     "output_type": "stream",
     "text": [
      "Shape:\t (6731278, 78) \n",
      "Columns: Index(['NU_INSCRICAO', 'NU_ANO', 'TP_FAIXA_ETARIA', 'TP_SEXO',\n",
      "       'TP_ESTADO_CIVIL', 'TP_COR_RACA', 'TP_NACIONALIDADE', 'TP_ST_CONCLUSAO',\n",
      "       'TP_ANO_CONCLUIU', 'TP_ESCOLA', 'TP_ENSINO', 'IN_TREINEIRO',\n",
      "       'CO_MUNICIPIO_ESC', 'NO_MUNICIPIO_ESC', 'CO_UF_ESC', 'SG_UF_ESC',\n",
      "       'TP_DEPENDENCIA_ADM_ESC', 'TP_LOCALIZACAO_ESC', 'TP_SIT_FUNC_ESC',\n",
      "       'CO_MUNICIPIO_PROVA', 'NO_MUNICIPIO_PROVA', 'CO_UF_PROVA',\n",
      "       'SG_UF_PROVA', 'TP_PRESENCA_CN', 'TP_PRESENCA_CH', 'TP_PRESENCA_LC',\n",
      "       'TP_PRESENCA_MT', 'CO_PROVA_CN', 'CO_PROVA_CH', 'CO_PROVA_LC',\n",
      "       'CO_PROVA_MT', 'NU_NOTA_CN', 'NU_NOTA_CH', 'NU_NOTA_LC', 'NU_NOTA_MT',\n",
      "       'TX_RESPOSTAS_CN', 'TX_RESPOSTAS_CH', 'TX_RESPOSTAS_LC',\n",
      "       'TX_RESPOSTAS_MT', 'TP_LINGUA', 'TX_GABARITO_CN', 'TX_GABARITO_CH',\n",
      "       'TX_GABARITO_LC', 'TX_GABARITO_MT', 'TP_STATUS_REDACAO',\n",
      "       'NU_NOTA_COMP1', 'NU_NOTA_COMP2', 'NU_NOTA_COMP3', 'NU_NOTA_COMP4',\n",
      "       'NU_NOTA_COMP5', 'NU_NOTA_REDACAO', 'Q001', 'Q002', 'Q003', 'Q004',\n",
      "       'Q005', 'Q006', 'Q007', 'Q008', 'Q009', 'Q010', 'Q011', 'Q012', 'Q013',\n",
      "       'Q014', 'Q015', 'Q016', 'Q017', 'Q018', 'Q019', 'Q020', 'Q021', 'Q022',\n",
      "       'Q023', 'Q024', 'Q025', 'Q026', 'Q027'],\n",
      "      dtype='object')\n"
     ]
    }
   ],
   "source": [
    "enem17 = pd.read_csv(\"../../dados_enem/microdados_enem_2017/DADOS/MICRODADOS_ENEM_2017.csv\", sep=';', encoding = \"ISO-8859-1\")\n",
    "enem17_clm = enem17.columns.tolist()\n",
    "\n",
    "print('Shape:\\t',enem17.shape,'\\nColumns:',enem17.columns)\n",
    "del enem17"
   ]
  },
  {
   "cell_type": "code",
   "execution_count": 8,
   "id": "7f8a0d93-28a0-4155-b0c1-3a9eeda5503b",
   "metadata": {},
   "outputs": [
    {
     "name": "stdout",
     "output_type": "stream",
     "text": [
      "Shape:\t (8627179, 105) \n",
      "Columns: Index(['NU_INSCRICAO', 'NU_ANO', 'TP_FAIXA_ETARIA', 'TP_SEXO',\n",
      "       'TP_ESTADO_CIVIL', 'TP_COR_RACA', 'TP_NACIONALIDADE', 'TP_ST_CONCLUSAO',\n",
      "       'TP_ANO_CONCLUIU', 'TP_ESCOLA',\n",
      "       ...\n",
      "       'Q041', 'Q042', 'Q043', 'Q044', 'Q045', 'Q046', 'Q047', 'Q048', 'Q049',\n",
      "       'Q050'],\n",
      "      dtype='object', length=105)\n"
     ]
    }
   ],
   "source": [
    "enem16 = pd.read_csv(\"../../dados_enem/microdados_enem_2016/DADOS/MICRODADOS_ENEM_2016.csv\", sep=';', encoding = \"ISO-8859-1\")\n",
    "enem16_clm = enem16.columns.tolist()\n",
    "\n",
    "print('Shape:\\t',enem16.shape,'\\nColumns:',enem16.columns)\n",
    "del enem16"
   ]
  },
  {
   "cell_type": "code",
   "execution_count": 9,
   "id": "852e40aa-cced-4dd1-bb74-68075b76ba3e",
   "metadata": {},
   "outputs": [
    {
     "name": "stdout",
     "output_type": "stream",
     "text": [
      "Shape:\t (7746427, 105) \n",
      "Columns: Index(['NU_INSCRICAO', 'NU_ANO', 'TP_FAIXA_ETARIA', 'TP_SEXO',\n",
      "       'TP_ESTADO_CIVIL', 'TP_COR_RACA', 'TP_NACIONALIDADE', 'TP_ST_CONCLUSAO',\n",
      "       'TP_ANO_CONCLUIU', 'TP_ESCOLA',\n",
      "       ...\n",
      "       'Q041', 'Q042', 'Q043', 'Q044', 'Q045', 'Q046', 'Q047', 'Q048', 'Q049',\n",
      "       'Q050'],\n",
      "      dtype='object', length=105)\n"
     ]
    }
   ],
   "source": [
    "enem15 = pd.read_csv(\"../../dados_enem/microdados_enem_2015/DADOS/MICRODADOS_ENEM_2015.csv\", sep=';', encoding = \"ISO-8859-1\")\n",
    "enem15_clm = enem15.columns.tolist()\n",
    "\n",
    "print('Shape:\\t',enem15.shape,'\\nColumns:',enem15.columns)\n",
    "del enem15"
   ]
  },
  {
   "cell_type": "code",
   "execution_count": 10,
   "id": "1fbbf62b-bd09-436c-8a3e-2fa355170c40",
   "metadata": {},
   "outputs": [
    {
     "name": "stdout",
     "output_type": "stream",
     "text": [
      "Shape:\t (8722248, 130) \n",
      "Columns: Index(['NU_INSCRICAO', 'NU_ANO', 'TP_FAIXA_ETARIA', 'TP_SEXO',\n",
      "       'TP_ESTADO_CIVIL', 'TP_COR_RACA', 'TP_NACIONALIDADE', 'TP_ST_CONCLUSAO',\n",
      "       'TP_ANO_CONCLUIU', 'TP_ESCOLA',\n",
      "       ...\n",
      "       'Q067', 'Q068', 'Q069', 'Q070', 'Q071', 'Q072', 'Q073', 'Q074', 'Q075',\n",
      "       'Q076'],\n",
      "      dtype='object', length=130)\n"
     ]
    }
   ],
   "source": [
    "enem14 = pd.read_csv(\"../../dados_enem/microdados_enem_2014/DADOS/MICRODADOS_ENEM_2014.csv\", sep=';', encoding = \"ISO-8859-1\")\n",
    "enem14_clm = enem14.columns.tolist()\n",
    "\n",
    "print('Shape:\\t',enem14.shape,'\\nColumns:',enem14.columns)\n",
    "del enem14"
   ]
  },
  {
   "cell_type": "code",
   "execution_count": 11,
   "id": "f32a7396-346a-4201-92dd-0d0d1332a08b",
   "metadata": {},
   "outputs": [
    {
     "name": "stdout",
     "output_type": "stream",
     "text": [
      "Shape:\t (7173563, 130) \n",
      "Columns: Index(['NU_INSCRICAO', 'NU_ANO', 'TP_FAIXA_ETARIA', 'TP_SEXO',\n",
      "       'TP_NACIONALIDADE', 'TP_ST_CONCLUSAO', 'ANO_CONCLUIU', 'TP_ESCOLA',\n",
      "       'TP_ENSINO', 'TP_ESTADO_CIVIL',\n",
      "       ...\n",
      "       'Q067', 'Q068', 'Q069', 'Q070', 'Q071', 'Q072', 'Q073', 'Q074', 'Q075',\n",
      "       'Q076'],\n",
      "      dtype='object', length=130)\n"
     ]
    }
   ],
   "source": [
    "enem13 = pd.read_csv(\"../../dados_enem/microdados_enem_2013/DADOS/MICRODADOS_ENEM_2013.csv\", sep=';', encoding = \"ISO-8859-1\")\n",
    "enem13_clm = enem13.columns.tolist()\n",
    "\n",
    "print('Shape:\\t',enem13.shape,'\\nColumns:',enem13.columns)\n",
    "del enem13"
   ]
  },
  {
   "cell_type": "markdown",
   "id": "f6c5127f-9912-4306-ad37-2f53d6c59823",
   "metadata": {},
   "source": [
    "### Analyze Common Columns"
   ]
  },
  {
   "cell_type": "code",
   "execution_count": 14,
   "id": "d6a8f173-54a6-4d8d-9ca7-df6c675b46c7",
   "metadata": {},
   "outputs": [],
   "source": [
    "columns = [enem13_clm,enem14_clm,enem15_clm,enem16_clm,enem17_clm,enem18_clm,enem19_clm,enem20_clm,enem21_clm,enem22_clm]\n",
    "\n",
    "intercept = set(columns[0])\n",
    "for s in columns[1:]:\n",
    "    intercept.intersection_update(s)"
   ]
  },
  {
   "cell_type": "code",
   "execution_count": 15,
   "id": "c397e44c-6c36-4535-af85-07b110d1872d",
   "metadata": {},
   "outputs": [
    {
     "data": {
      "text/plain": [
       "{'CO_MUNICIPIO_ESC',\n",
       " 'CO_MUNICIPIO_PROVA',\n",
       " 'CO_PROVA_CH',\n",
       " 'CO_PROVA_CN',\n",
       " 'CO_PROVA_LC',\n",
       " 'CO_PROVA_MT',\n",
       " 'CO_UF_ESC',\n",
       " 'CO_UF_PROVA',\n",
       " 'NO_MUNICIPIO_ESC',\n",
       " 'NO_MUNICIPIO_PROVA',\n",
       " 'NU_ANO',\n",
       " 'NU_INSCRICAO',\n",
       " 'NU_NOTA_CH',\n",
       " 'NU_NOTA_CN',\n",
       " 'NU_NOTA_COMP1',\n",
       " 'NU_NOTA_COMP2',\n",
       " 'NU_NOTA_COMP3',\n",
       " 'NU_NOTA_COMP4',\n",
       " 'NU_NOTA_COMP5',\n",
       " 'NU_NOTA_LC',\n",
       " 'NU_NOTA_MT',\n",
       " 'NU_NOTA_REDACAO',\n",
       " 'Q001',\n",
       " 'Q002',\n",
       " 'Q003',\n",
       " 'Q004',\n",
       " 'Q005',\n",
       " 'Q006',\n",
       " 'Q007',\n",
       " 'Q008',\n",
       " 'Q009',\n",
       " 'Q010',\n",
       " 'Q011',\n",
       " 'Q012',\n",
       " 'Q013',\n",
       " 'Q014',\n",
       " 'Q015',\n",
       " 'Q016',\n",
       " 'Q017',\n",
       " 'Q018',\n",
       " 'Q019',\n",
       " 'Q020',\n",
       " 'Q021',\n",
       " 'Q022',\n",
       " 'Q023',\n",
       " 'Q024',\n",
       " 'Q025',\n",
       " 'SG_UF_ESC',\n",
       " 'SG_UF_PROVA',\n",
       " 'TP_COR_RACA',\n",
       " 'TP_DEPENDENCIA_ADM_ESC',\n",
       " 'TP_ENSINO',\n",
       " 'TP_ESCOLA',\n",
       " 'TP_ESTADO_CIVIL',\n",
       " 'TP_FAIXA_ETARIA',\n",
       " 'TP_LINGUA',\n",
       " 'TP_LOCALIZACAO_ESC',\n",
       " 'TP_NACIONALIDADE',\n",
       " 'TP_PRESENCA_CH',\n",
       " 'TP_PRESENCA_CN',\n",
       " 'TP_PRESENCA_LC',\n",
       " 'TP_PRESENCA_MT',\n",
       " 'TP_SEXO',\n",
       " 'TP_SIT_FUNC_ESC',\n",
       " 'TP_STATUS_REDACAO',\n",
       " 'TP_ST_CONCLUSAO',\n",
       " 'TX_GABARITO_CH',\n",
       " 'TX_GABARITO_CN',\n",
       " 'TX_GABARITO_LC',\n",
       " 'TX_GABARITO_MT',\n",
       " 'TX_RESPOSTAS_CH',\n",
       " 'TX_RESPOSTAS_CN',\n",
       " 'TX_RESPOSTAS_LC',\n",
       " 'TX_RESPOSTAS_MT'}"
      ]
     },
     "execution_count": 15,
     "metadata": {},
     "output_type": "execute_result"
    }
   ],
   "source": [
    "intercept"
   ]
  },
  {
   "cell_type": "code",
   "execution_count": null,
   "id": "9a442a81-fd47-4449-be0d-f205dba369d8",
   "metadata": {},
   "outputs": [],
   "source": []
  }
 ],
 "metadata": {
  "kernelspec": {
   "display_name": "Python 3 (ipykernel)",
   "language": "python",
   "name": "python3"
  },
  "language_info": {
   "codemirror_mode": {
    "name": "ipython",
    "version": 3
   },
   "file_extension": ".py",
   "mimetype": "text/x-python",
   "name": "python",
   "nbconvert_exporter": "python",
   "pygments_lexer": "ipython3",
   "version": "3.8.16"
  }
 },
 "nbformat": 4,
 "nbformat_minor": 5
}
